{
 "cells": [
  {
   "cell_type": "markdown",
   "metadata": {},
   "source": [
    "# Manejo de archivos"
   ]
  },
  {
   "cell_type": "markdown",
   "metadata": {},
   "source": [
    "Python ofrece la función open() para «abrir» un fichero. Esta apertura se puede realizar en\n",
    "3 modos distintos:"
   ]
  },
  {
   "cell_type": "markdown",
   "metadata": {},
   "source": [
    "- Lectura del contenido de un fichero existente.\n",
    "- Escritura del contenido en un fichero nuevo.\n",
    "- Añadido al contenido de un fichero existente."
   ]
  },
  {
   "cell_type": "markdown",
   "metadata": {},
   "source": [
    "Abrir archivo:"
   ]
  },
  {
   "cell_type": "code",
   "execution_count": 11,
   "metadata": {},
   "outputs": [],
   "source": [
    "f = open('../files/datos_sismicos.csv')"
   ]
  },
  {
   "cell_type": "code",
   "execution_count": 12,
   "metadata": {},
   "outputs": [
    {
     "ename": "FileNotFoundError",
     "evalue": "[Errno 2] No such file or directory: '../files/datos_sismicos.txt'",
     "output_type": "error",
     "traceback": [
      "\u001b[1;31m---------------------------------------------------------------------------\u001b[0m",
      "\u001b[1;31mFileNotFoundError\u001b[0m                         Traceback (most recent call last)",
      "\u001b[1;32mc:\\Users\\opet1\\Desktop\\Curso Python UGMEX\\Sesión 5\\archivos.ipynb Cell 6'\u001b[0m in \u001b[0;36m<cell line: 1>\u001b[1;34m()\u001b[0m\n\u001b[1;32m----> <a href='vscode-notebook-cell:/c%3A/Users/opet1/Desktop/Curso%20Python%20UGMEX/Sesi%C3%B3n%205/archivos.ipynb#ch0000005?line=0'>1</a>\u001b[0m f2 \u001b[39m=\u001b[39m \u001b[39mopen\u001b[39;49m(\u001b[39m'\u001b[39;49m\u001b[39m../files/datos_sismicos.txt\u001b[39;49m\u001b[39m'\u001b[39;49m)\n",
      "\u001b[1;31mFileNotFoundError\u001b[0m: [Errno 2] No such file or directory: '../files/datos_sismicos.txt'"
     ]
    }
   ],
   "source": [
    "f2 = open('../files/datos_sismicos.txt')"
   ]
  },
  {
   "cell_type": "markdown",
   "metadata": {},
   "source": [
    "## Lectura completa de un fichero"
   ]
  },
  {
   "cell_type": "markdown",
   "metadata": {},
   "source": [
    "read() Devuelve todo el contenido del fichero como una cadena de texto (str):"
   ]
  },
  {
   "cell_type": "code",
   "execution_count": null,
   "metadata": {},
   "outputs": [
    {
     "data": {
      "text/plain": [
       "''"
      ]
     },
     "execution_count": 9,
     "metadata": {},
     "output_type": "execute_result"
    }
   ],
   "source": [
    "f.read()"
   ]
  },
  {
   "cell_type": "markdown",
   "metadata": {},
   "source": [
    "readlines() Devuelve todo el contenido del fichero como una lista (list) donde cada\n",
    "elemento es una línea:"
   ]
  },
  {
   "cell_type": "code",
   "execution_count": 13,
   "metadata": {},
   "outputs": [
    {
     "data": {
      "text/plain": [
       "['Fecha,Hora,Magnitud,Latitud,Longitud,Profundidad,Referencia de localizacion,Fecha UTC,Hora UTC,Estatus\\n',\n",
       " '02/01/1979,06:27:00,3,32.05,-115.93,5,\"68 km al NORESTE de ENSENADA, BC\",02/01/1979,12:27:00,revisado\\n',\n",
       " '02/01/1979,08:20:00,5,14.37,-93.04,96,\"102 km al SUROESTE de CD HIDALGO, CHIS\",02/01/1979,14:20:00,revisado\\n',\n",
       " '04/01/1979,05:29:13,3.2,31.67,-115.87,5,\"67 km al ESTE de RODOLFO SANCHEZ T(MRO), BC\",04/01/1979,11:29:13,revisado\\n',\n",
       " '04/01/1979,06:47:57,no calculable,15.94,-96.51,4,\"22 km al NORTE de S PEDRO POCHUTLA, OAX\",04/01/1979,12:47:57,revisado\\n',\n",
       " '04/01/1979,18:29:39,no calculable,16.35,-96.29,21,\"32 km al ESTE de MIAHUATLAN, OAX\",05/01/1979,00:29:39,revisado\\n',\n",
       " '04/01/1979,22:23:48,no calculable,15.78,-94.77,24,\"64 km al SURESTE de SALINA CRUZ, OAX\",05/01/1979,04:23:48,revisado\\n',\n",
       " '05/01/1979,00:52:05,no calculable,14.55,-93.23,70,\"105 km al SUROESTE de HUIXTLA, CHIS\",05/01/1979,06:52:05,revisado\\n',\n",
       " '05/01/1979,00:57:58,no calculable,15.67,-96.94,16,\"25 km al SURESTE de PUERTO ESCONDIDO, OAX\",05/01/1979,06:57:58,revisado\\n',\n",
       " '05/01/1979,04:23:57,no calculable,16.51,-94.3,60,\"53 km al NOROESTE de ARRIAGA , CHIS\",05/01/1979,10:23:57,revisado\\n',\n",
       " '05/01/1979,16:31:40,no calculable,15.79,-97.14,60,\"11 km al SUROESTE de PUERTO ESCONDIDO, OAX\",05/01/1979,22:31:40,revisado\\n',\n",
       " '06/01/1979,03:21:38,4.4,14.25,-93.81,60,\"165 km al SUROESTE de MAPASTEPEC, CHIS\",06/01/1979,09:21:38,revisado\\n',\n",
       " '06/01/1979,05:51:31,5.3,18.08,-103.04,36,\"75 km al OESTE de LA MIRA, MICH\",06/01/1979,11:51:31,revisado\\n',\n",
       " '06/01/1979,10:33:06,no calculable,13.91,-92.38,96,\"89 km al SUROESTE de CD HIDALGO, CHIS\",06/01/1979,16:33:06,revisado\\n',\n",
       " '06/01/1979,11:25:24,no calculable,17.11,-94.86,116,\"33 km al NORESTE de MATIAS ROMERO, OAX\",06/01/1979,17:25:24,revisado\\n',\n",
       " '07/01/1979,05:48:33,no calculable,19.45,-98.82,42,\"5 km al ESTE de S MIGUEL COATLINCHAN, MEX\",07/01/1979,11:48:33,revisado\\n',\n",
       " '07/01/1979,08:25:01,no calculable,15.24,-97,4,\"69 km al SUR de PUERTO ESCONDIDO, OAX\",07/01/1979,14:25:01,revisado\\n',\n",
       " '07/01/1979,19:28:52,no calculable,16.17,-97.79,33,\"34 km al SURESTE de PINOTEPA NACIONAL, OAX\",08/01/1979,01:28:52,revisado\\n',\n",
       " '08/01/1979,04:16:54,no calculable,17.02,-101.5,18,\"62 km al SUROESTE de PETATLAN, GRO\",08/01/1979,10:16:54,revisado\\n',\n",
       " '08/01/1979,11:31:10,no calculable,16.71,-101.1,16,\"75 km al SUROESTE de TECPAN, GRO\",08/01/1979,17:31:10,revisado\\n',\n",
       " '08/01/1979,11:56:01,no calculable,15.45,-96.42,33,\"33 km al SUR de S PEDRO POCHUTLA, OAX\",08/01/1979,17:56:01,revisado\\n',\n",
       " '08/01/1979,14:04:48,no calculable,18.15,-95.3,16,\"21 km al NORESTE de J RODRIGUEZ CLARA, VER\",08/01/1979,20:04:48,revisado\\n',\n",
       " '08/01/1979,17:12:08,no calculable,15.66,-96.68,18,\"25 km al SUROESTE de S PEDRO POCHUTLA, OAX\",08/01/1979,23:12:08,revisado\\n',\n",
       " '01/04/1983,04:44:46,no calculable,15.85,-94,33,\"37 km al SUROESTE de TONALA, CHIS\",01/04/1983,10:44:46,revisado\\n',\n",
       " '01/04/1983,10:39:21,no calculable,15.07,-92.95,33,\"42 km al SUR de MAPASTEPEC, CHIS\",01/04/1983,16:39:21,revisado\\n',\n",
       " '01/04/1983,11:01:24,no calculable,17.81,-98.3,33,\"41 km al NORESTE de TLAPA, GRO\",01/04/1983,17:01:24,revisado\\n',\n",
       " '01/04/1983,13:22:20,no calculable,19.71,-94.74,33,\"144 km al NORESTE de ANGEL R. CABADA, VER\",01/04/1983,19:22:20,revisado\\n',\n",
       " '01/04/1983,14:13:48,no calculable,15.32,-95.59,33,\"77 km al SURESTE de CRUCECITA, OAX\",01/04/1983,20:13:48,revisado\\n',\n",
       " '01/04/1983,17:33:17,no calculable,16.13,-94.37,33,\"52 km al OESTE de ARRIAGA , CHIS\",01/04/1983,23:33:17,revisado\\n',\n",
       " '02/04/1983,04:02:00,no calculable,16.03,-93.95,33,\"22 km al SUROESTE de TONALA, CHIS\",02/04/1983,10:02:00,revisado\\n',\n",
       " '02/04/1983,05:38:01,no calculable,15.75,-94.18,33,\"59 km al SUROESTE de TONALA, CHIS\",02/04/1983,11:38:01,revisado\\n',\n",
       " '02/04/1983,08:08:55,2.6,31.89,-116.08,8,\"50 km al NORESTE de RODOLFO SANCHEZ T(MRO), BC\",02/04/1983,14:08:55,revisado\\n',\n",
       " '02/04/1983,20:31:03,no calculable,15.6,-93.82,33,\"54 km al SUR de TONALA, CHIS\",03/04/1983,02:31:03,revisado\\n',\n",
       " '03/04/1983,03:25:24,no calculable,18.22,-92.44,33,\"41 km al SURESTE de FRONTERA, TAB\",03/04/1983,09:25:24,revisado\\n',\n",
       " '03/04/1983,07:56:23,no calculable,15.03,-94.32,33,\"132 km al SUROESTE de TONALA, CHIS\",03/04/1983,13:56:23,revisado\\n',\n",
       " '03/04/1983,12:23:58,no calculable,16.11,-95.33,33,\"16 km al SUROESTE de SALINA CRUZ, OAX\",03/04/1983,18:23:58,revisado\\n',\n",
       " '03/04/1983,14:33:37,no calculable,14.96,-89.41,33,\"296 km al ESTE de CACAHOATAN, CHIS\",03/04/1983,20:33:37,revisado\\n',\n",
       " '03/04/1983,16:50:22,no calculable,14.08,-93.58,33,\"168 km al SUROESTE de CD HIDALGO, CHIS\",03/04/1983,22:50:22,revisado\\n',\n",
       " '04/04/1983,09:45:34,no calculable,32.03,-116.27,8,\"37 km al NORESTE de ENSENADA, BC\",04/04/1983,15:45:34,revisado\\n',\n",
       " '04/04/1983,11:33:06,no calculable,16.23,-94.26,33,\"39 km al OESTE de ARRIAGA , CHIS\",04/04/1983,17:33:06,revisado\\n',\n",
       " '04/04/1983,22:54:47,no calculable,15.75,-95.46,33,\"56 km al SUROESTE de SALINA CRUZ, OAX\",05/04/1983,04:54:47,revisado\\n',\n",
       " '05/04/1983,00:38:33,no calculable,15.5,-94.62,33,\"97 km al SURESTE de SALINA CRUZ, OAX\",05/04/1983,06:38:33,revisado\\n',\n",
       " '05/04/1983,04:26:50,no calculable,14.94,-90.9,33,\"136 km al ESTE de CACAHOATAN, CHIS\",05/04/1983,10:26:50,revisado\\n',\n",
       " '05/04/1983,11:37:35,no calculable,16.3,-98.7,33,\"53 km al SUROESTE de OMETEPEC, GRO\",05/04/1983,17:37:35,revisado\\n',\n",
       " '05/04/1983,19:17:23,no calculable,16.82,-94.82,33,\"24 km al ESTE de MATIAS ROMERO, OAX\",06/04/1983,01:17:23,revisado\\n',\n",
       " '06/04/1983,05:47:18,no calculable,15.67,-95.54,33,\"65 km al ESTE de CRUCECITA, OAX\",06/04/1983,11:47:18,revisado\\n',\n",
       " '06/04/1983,13:12:39,no calculable,15.06,-94.15,33,\"121 km al SUROESTE de TONALA, CHIS\",06/04/1983,19:12:39,revisado\\n',\n",
       " '06/04/1983,20:55:13,no calculable,16.18,-95.74,33,\"56 km al SUROESTE de TEHUANTEPEC, OAX\",07/04/1983,02:55:13,revisado\\n',\n",
       " '06/04/1983,22:12:12,no calculable,15.15,-95.66,15,\"85 km al SURESTE de CRUCECITA, OAX\",07/04/1983,04:12:12,revisado\\n',\n",
       " '07/04/1983,06:02:06,4.8,14.24,-94.11,33,\"187 km al SUROESTE de MAPASTEPEC, CHIS\",07/04/1983,12:02:06,revisado\\n',\n",
       " '07/04/1983,10:46:55,no calculable,16.11,-98.21,33,\"31 km al SUROESTE de PINOTEPA NACIONAL, OAX\",07/04/1983,16:46:55,revisado\\n',\n",
       " '07/04/1983,11:23:07,2.2,31.91,-115.8,4,\"76 km al NORESTE de RODOLFO SANCHEZ T(MRO), BC\",07/04/1983,17:23:07,revisado\\n',\n",
       " '07/04/1983,23:26:55,no calculable,14.69,-94.36,33,\"166 km al SUROESTE de PIJIJIAPAN, CHIS\",08/04/1983,05:26:55,revisado\\n',\n",
       " '08/04/1983,00:23:02,no calculable,18.76,-94.28,33,\"69 km al NORTE de ALLENDE, VER\",08/04/1983,06:23:02,revisado\\n',\n",
       " '08/04/1983,05:07:26,no calculable,18.85,-101.52,33,\"43 km al SUR de TACAMBARO, MICH\",08/04/1983,11:07:26,revisado\\n',\n",
       " '08/04/1983,12:36:38,no calculable,15.46,-93.37,33,\"30 km al SUROESTE de PIJIJIAPAN, CHIS\",08/04/1983,18:36:38,revisado\\n',\n",
       " '08/04/1983,14:52:11,no calculable,16.11,-93.99,33,\"17 km al SUROESTE de ARRIAGA , CHIS\",08/04/1983,20:52:11,revisado\\n',\n",
       " '08/04/1983,15:13:18,no calculable,15.09,-94.09,33,\"115 km al SUROESTE de PIJIJIAPAN, CHIS\",08/04/1983,21:13:18,revisado\\n',\n",
       " '08/04/1983,18:33:53,no calculable,16.32,-94.14,33,\"27 km al NOROESTE de ARRIAGA , CHIS\",09/04/1983,00:33:53,revisado\\n',\n",
       " '08/04/1983,22:59:59,no calculable,15.1,-89.16,33,\"323 km al ESTE de CACAHOATAN, CHIS\",09/04/1983,04:59:59,revisado\\n',\n",
       " '09/04/1983,00:29:40,no calculable,15.82,-95.46,33,\"49 km al SUROESTE de SALINA CRUZ, OAX\",09/04/1983,06:29:40,revisado\\n',\n",
       " '09/04/1983,06:40:37,no calculable,17.84,-94.26,33,\"19 km al SUROESTE de LAS CHOAPAS, VER\",09/04/1983,12:40:37,revisado\\n',\n",
       " '09/04/1983,09:19:17,no calculable,16.87,-95.14,33,\"10 km al OESTE de MATIAS ROMERO, OAX\",09/04/1983,15:19:17,revisado\\n',\n",
       " '09/04/1983,12:50:45,no calculable,17.29,-91.53,33,\"23 km al SUROESTE de TENOSIQUE, TAB\",09/04/1983,18:50:45,revisado\\n',\n",
       " '09/04/1983,15:49:23,no calculable,14.13,-92.84,33,\"96 km al SUROESTE de CD HIDALGO, CHIS\",09/04/1983,21:49:23,revisado\\n',\n",
       " '10/04/1983,02:33:11,no calculable,15.58,-93.69,33,\"53 km al OESTE de PIJIJIAPAN, CHIS\",10/04/1983,08:33:11,revisado\\n',\n",
       " '10/04/1983,07:04:05,no calculable,15.97,-94.22,33,\"45 km al SUROESTE de ARRIAGA , CHIS\",10/04/1983,13:04:05,revisado\\n',\n",
       " '10/04/1983,08:09:05,no calculable,13.06,-90.52,33,\"251 km al SURESTE de CD HIDALGO, CHIS\",10/04/1983,14:09:05,revisado\\n',\n",
       " '10/04/1983,10:09:57,no calculable,13.96,-94.13,33,\"211 km al SUROESTE de MAPASTEPEC, CHIS\",10/04/1983,16:09:57,revisado\\n',\n",
       " '10/04/1983,10:49:25,no calculable,13.35,-92.67,33,\"157 km al SUROESTE de CD HIDALGO, CHIS\",10/04/1983,16:49:25,revisado\\n',\n",
       " '10/04/1983,10:58:25,no calculable,13.92,-93.63,33,\"180 km al SUROESTE de CD HIDALGO, CHIS\",10/04/1983,16:58:25,revisado\\n',\n",
       " '10/04/1983,11:15:52,no calculable,13.89,-93.57,33,\"176 km al SUROESTE de CD HIDALGO, CHIS\",10/04/1983,17:15:52,revisado\\n',\n",
       " '10/04/1983,12:10:50,no calculable,14.01,-93.57,33,\"170 km al SUROESTE de CD HIDALGO, CHIS\",10/04/1983,18:10:50,revisado\\n',\n",
       " '10/04/1983,17:30:52,no calculable,14.97,-93.79,33,\"101 km al SUROESTE de PIJIJIAPAN, CHIS\",10/04/1983,23:30:52,revisado\\n',\n",
       " '10/04/1983,19:11:51,no calculable,16.3,-94.51,33,\"39 km al SURESTE de UNION HIDALGO, OAX\",11/04/1983,01:11:51,revisado\\n',\n",
       " '10/04/1983,22:33:03,no calculable,16.35,-94.57,33,\"31 km al SURESTE de UNION HIDALGO, OAX\",11/04/1983,04:33:03,revisado\\n',\n",
       " '10/04/1983,22:46:14,no calculable,15.35,-93.02,33,\"17 km al SUROESTE de MAPASTEPEC, CHIS\",11/04/1983,04:46:14,revisado\\n',\n",
       " '11/04/1983,11:17:23,no calculable,14.03,-91.01,33,\"142 km al SURESTE de CD HIDALGO, CHIS\",11/04/1983,17:17:23,revisado\\n',\n",
       " '11/04/1983,16:47:27,no calculable,17.71,-94.99,60,\"19 km al SUR de SAYULA DE ALEMAN, VER\",11/04/1983,22:47:27,revisado\\n',\n",
       " '11/04/1983,22:02:05,no calculable,16.01,-93.65,33,\"14 km al SURESTE de TONALA, CHIS\",12/04/1983,04:02:05,revisado\\n',\n",
       " '11/04/1983,22:07:05,no calculable,17.24,-91.11,33,\"42 km al SURESTE de TENOSIQUE, TAB\",12/04/1983,04:07:05,revisado\\n',\n",
       " '11/04/1983,22:12:04,no calculable,15.75,-94.36,33,\"73 km al SUROESTE de ARRIAGA , CHIS\",12/04/1983,04:12:04,revisado\\n',\n",
       " '12/04/1983,00:59:53,no calculable,17.17,-92.15,33,\"19 km al ESTE de YAJALON, CHIS\",12/04/1983,06:59:53,revisado\\n',\n",
       " '12/04/1983,05:21:57,no calculable,15.92,-95.81,33,\"39 km al NORESTE de CRUCECITA, OAX\",12/04/1983,11:21:57,revisado\\n',\n",
       " '12/04/1983,08:56:50,no calculable,15.29,-96.91,33,\"65 km al SUR de PUERTO ESCONDIDO, OAX\",12/04/1983,14:56:50,revisado\\n',\n",
       " '12/04/1983,12:22:59,4.9,15.43,-96.78,15,\"48 km al SUROESTE de S PEDRO POCHUTLA, OAX\",12/04/1983,18:22:59,revisado\\n',\n",
       " '12/04/1983,13:39:54,no calculable,17.99,-101.38,15,\"42 km al NORESTE de ZIHUATANEJO, GRO\",12/04/1983,19:39:54,revisado\\n',\n",
       " '12/04/1983,14:22:10,no calculable,15.06,-92.9,33,\"42 km al SUR de MAPASTEPEC, CHIS\",12/04/1983,20:22:10,revisado\\n',\n",
       " '12/04/1983,14:25:53,no calculable,15.64,-93.16,33,\"7 km al SURESTE de PIJIJIAPAN, CHIS\",12/04/1983,20:25:53,revisado\\n',\n",
       " '12/04/1983,16:03:40,no calculable,18.27,-94.26,33,\"19 km al NOROESTE de AGUA DULCE, VER\",12/04/1983,22:03:40,revisado\\n',\n",
       " '12/04/1983,21:18:13,no calculable,14.78,-93.57,33,\"103 km al SUROESTE de MAPASTEPEC, CHIS\",13/04/1983,03:18:13,revisado\\n',\n",
       " '12/04/1983,22:19:55,no calculable,15.95,-97.8,33,\"40 km al OESTE de RIO GRANDE, OAX\",13/04/1983,04:19:55,revisado\\n',\n",
       " '13/04/1983,00:12:19,no calculable,14.84,-93.79,33,\"112 km al SUROESTE de PIJIJIAPAN, CHIS\",13/04/1983,06:12:19,revisado\\n',\n",
       " '13/04/1983,05:38:19,no calculable,15.97,-95.46,33,\"37 km al SUROESTE de SALINA CRUZ, OAX\",13/04/1983,11:38:19,revisado\\n',\n",
       " '14/04/1983,01:19:28,5.9,14.01,-91.72,33,\"87 km al SURESTE de CD HIDALGO, CHIS\",14/04/1983,07:19:28,revisado\\n',\n",
       " '14/04/1983,06:19:55,no calculable,18.26,-100.13,33,\"17 km al SURESTE de ARCELIA, GRO\",14/04/1983,12:19:55,revisado\\n',\n",
       " '14/04/1983,06:40:36,2.2,31.72,-115.95,8,\"59 km al ESTE de RODOLFO SANCHEZ T(MRO), BC\",14/04/1983,12:40:36,revisado\\n',\n",
       " '14/04/1983,07:31:14,5.7,15.04,-96.86,15,\"89 km al SUROESTE de S PEDRO POCHUTLA, OAX\",14/04/1983,13:31:14,revisado\\n',\n",
       " '14/04/1983,08:58:44,no calculable,15.47,-96.86,33,\"49 km al SURESTE de PUERTO ESCONDIDO, OAX\",14/04/1983,14:58:44,revisado\\n',\n",
       " '14/04/1983,09:34:42,no calculable,13.81,-91.87,33,\"101 km al SURESTE de CD HIDALGO, CHIS\",14/04/1983,15:34:42,revisado\\n',\n",
       " '14/04/1983,19:35:03,4.8,15.56,-88.66,8,\"328 km al SUR de CHETUMAL, QR\",15/04/1983,01:35:03,revisado\\n',\n",
       " '14/04/1983,21:20:43,no calculable,15.32,-96.97,33,\"61 km al SUR de PUERTO ESCONDIDO, OAX\",15/04/1983,03:20:43,revisado\\n',\n",
       " '14/04/1983,22:45:22,1.7,32.16,-116.68,14,\"34 km al NORTE de ENSENADA, BC\",15/04/1983,04:45:22,revisado\\n',\n",
       " '14/04/1983,23:59:09,no calculable,15.98,-94.21,33,\"44 km al SUROESTE de ARRIAGA , CHIS\",15/04/1983,05:59:09,revisado\\n',\n",
       " '15/04/1983,00:26:47,no calculable,15.24,-94.64,33,\"120 km al SURESTE de SALINA CRUZ, OAX\",15/04/1983,06:26:47,revisado\\n',\n",
       " '15/04/1983,01:10:31,no calculable,15.47,-93.51,33,\"40 km al SUROESTE de PIJIJIAPAN, CHIS\",15/04/1983,07:10:31,revisado\\n',\n",
       " '15/04/1983,01:37:18,no calculable,15.92,-95.67,33,\"52 km al NORESTE de CRUCECITA, OAX\",15/04/1983,07:37:18,revisado\\n',\n",
       " '15/04/1983,03:54:42,no calculable,15.79,-93.79,33,\"33 km al SUR de TONALA, CHIS\",15/04/1983,09:54:42,revisado\\n',\n",
       " '15/04/1983,10:33:21,2.7,32.63,-115.32,8,\"14 km al ESTE de MEXICALI, BC\",15/04/1983,16:33:21,revisado\\n',\n",
       " '15/04/1983,13:05:40,2.5,32.63,-115.34,8,\"13 km al SURESTE de MEXICALI, BC\",15/04/1983,19:05:40,revisado\\n',\n",
       " '15/04/1983,20:17:27,no calculable,17.23,-99.87,33,\"34 km al NORESTE de COYUCA DE BENITEZ, GRO\",16/04/1983,02:17:27,revisado\\n',\n",
       " '15/04/1983,23:40:17,no calculable,13.47,-92.28,33,\"134 km al SUR de CD HIDALGO, CHIS\",16/04/1983,05:40:17,revisado\\n',\n",
       " '15/04/1983,23:44:40,no calculable,14.39,-91.57,33,\"70 km al SURESTE de CD HIDALGO, CHIS\",16/04/1983,05:44:40,revisado\\n',\n",
       " '16/04/1983,06:29:51,no calculable,17.6,-103.71,15,\"143 km al SUROESTE de COALCOMAN, MICH\",16/04/1983,12:29:51,revisado\\n',\n",
       " '16/04/1983,07:20:25,3.9,16.6,-101.3,5,\"99 km al SUROESTE de TECPAN, GRO\",16/04/1983,13:20:25,revisado\\n',\n",
       " '16/04/1983,14:43:40,no calculable,13.81,-91.93,33,\"99 km al SUR de CD HIDALGO, CHIS\",16/04/1983,20:43:40,revisado\\n',\n",
       " '16/04/1983,19:48:38,no calculable,16.19,-95.5,33,\"32 km al SUROESTE de TEHUANTEPEC, OAX\",17/04/1983,01:48:38,revisado\\n',\n",
       " '16/04/1983,19:57:10,no calculable,15.14,-97.1,33,\"80 km al SUR de PUERTO ESCONDIDO, OAX\",17/04/1983,01:57:10,revisado\\n',\n",
       " '16/04/1983,22:57:32,no calculable,18.04,-100.62,33,\"36 km al SUR de CD ALTAMIRANO, GRO\",17/04/1983,04:57:32,revisado\\n',\n",
       " '17/04/1983,00:49:37,no calculable,16.16,-94.34,33,\"48 km al OESTE de ARRIAGA , CHIS\",17/04/1983,06:49:37,revisado\\n',\n",
       " '17/04/1983,01:13:47,no calculable,15.43,-95.53,33,\"75 km al SURESTE de CRUCECITA, OAX\",17/04/1983,07:13:47,revisado\\n',\n",
       " '17/04/1983,02:12:03,no calculable,14.42,-95.6,33,\"160 km al SURESTE de CRUCECITA, OAX\",17/04/1983,08:12:03,revisado\\n',\n",
       " '17/04/1983,03:15:49,no calculable,15.35,-93.05,33,\"20 km al SUROESTE de MAPASTEPEC, CHIS\",17/04/1983,09:15:49,revisado\\n',\n",
       " '17/04/1983,04:29:28,no calculable,15.98,-98.53,33,\"65 km al SUROESTE de PINOTEPA NACIONAL, OAX\",17/04/1983,10:29:28,revisado\\n',\n",
       " '17/04/1983,04:48:42,no calculable,16.24,-94.41,33,\"52 km al SURESTE de UNION HIDALGO, OAX\",17/04/1983,10:48:42,revisado\\n',\n",
       " '17/04/1983,05:02:24,no calculable,15.43,-97.9,33,\"81 km al SUROESTE de RIO GRANDE, OAX\",17/04/1983,11:02:24,revisado\\n',\n",
       " '17/04/1983,08:25:42,no calculable,16.96,-89.63,33,\"199 km al SURESTE de TENOSIQUE, TAB\",17/04/1983,14:25:42,revisado\\n',\n",
       " '17/04/1983,11:59:19,no calculable,15.43,-93.24,33,\"29 km al SUR de PIJIJIAPAN, CHIS\",17/04/1983,17:59:19,revisado\\n',\n",
       " '17/04/1983,13:46:27,no calculable,17.6,-91.93,33,\"11 km al NORESTE de PALENQUE, CHIS\",17/04/1983,19:46:27,revisado\\n',\n",
       " '17/04/1983,18:27:25,4.3,17.9,-103,10,\"72 km al OESTE de LA MIRA, MICH\",18/04/1983,00:27:25,revisado\\n',\n",
       " '17/04/1983,20:46:33,no calculable,15.63,-93.52,33,\"34 km al OESTE de PIJIJIAPAN, CHIS\",18/04/1983,02:46:33,revisado\\n',\n",
       " '18/04/1983,01:31:34,no calculable,16.19,-94.29,33,\"42 km al OESTE de ARRIAGA , CHIS\",18/04/1983,07:31:34,revisado\\n',\n",
       " '18/04/1983,19:47:33,no calculable,16.48,-88.29,33,\"224 km al SUR de CHETUMAL, QR\",19/04/1983,01:47:33,revisado\\n',\n",
       " '18/04/1983,22:09:37,no calculable,15.28,-95.62,33,\"77 km al SURESTE de CRUCECITA, OAX\",19/04/1983,04:09:37,revisado\\n',\n",
       " '19/04/1983,01:20:49,no calculable,15.99,-95.51,33,\"40 km al SUROESTE de SALINA CRUZ, OAX\",19/04/1983,07:20:49,revisado\\n',\n",
       " '19/04/1983,05:48:52,no calculable,14.92,-92.96,33,\"58 km al SUR de MAPASTEPEC, CHIS\",19/04/1983,11:48:52,revisado\\n',\n",
       " '19/04/1983,06:46:42,no calculable,15.17,-95.92,33,\"70 km al SURESTE de CRUCECITA, OAX\",19/04/1983,12:46:42,revisado\\n',\n",
       " '19/04/1983,12:35:09,no calculable,14.56,-93.88,33,\"144 km al SUROESTE de PIJIJIAPAN, CHIS\",19/04/1983,18:35:09,revisado\\n',\n",
       " '19/04/1983,18:08:43,no calculable,15.67,-95.44,15,\"62 km al SUROESTE de SALINA CRUZ, OAX\",20/04/1983,00:08:43,revisado\\n',\n",
       " '19/04/1983,20:21:53,no calculable,16.99,-101.48,33,\"64 km al SUROESTE de PETATLAN, GRO\",20/04/1983,02:21:53,revisado\\n',\n",
       " '20/04/1983,04:48:21,no calculable,15.91,-95.48,33,\"43 km al SUROESTE de SALINA CRUZ, OAX\",20/04/1983,10:48:21,revisado\\n',\n",
       " '20/04/1983,14:40:41,no calculable,15.86,-93.48,33,\"35 km al NOROESTE de PIJIJIAPAN, CHIS\",20/04/1983,20:40:41,revisado\\n',\n",
       " '20/04/1983,17:14:29,no calculable,15.54,-94.53,33,\"101 km al SURESTE de SALINA CRUZ, OAX\",20/04/1983,23:14:29,revisado\\n',\n",
       " '20/04/1983,17:49:11,no calculable,15.15,-93.33,33,\"57 km al SUROESTE de MAPASTEPEC, CHIS\",20/04/1983,23:49:11,revisado\\n',\n",
       " '20/04/1983,17:53:09,no calculable,14.92,-92.58,33,\"27 km al SUROESTE de HUIXTLA, CHIS\",20/04/1983,23:53:09,revisado\\n',\n",
       " '21/04/1983,01:15:50,no calculable,15.71,-93.95,33,\"47 km al SUROESTE de TONALA, CHIS\",21/04/1983,07:15:50,revisado\\n',\n",
       " '21/04/1983,09:37:04,no calculable,17.97,-90.65,33,\"71 km al SUR de ESCARCEGA, CAMP\",21/04/1983,15:37:04,revisado\\n',\n",
       " '21/04/1983,10:45:16,no calculable,13.82,-92.44,33,\"100 km al SUROESTE de CD HIDALGO, CHIS\",21/04/1983,16:45:16,revisado\\n',\n",
       " '21/04/1983,12:08:44,no calculable,14.18,-93.09,33,\"115 km al SUROESTE de CD HIDALGO, CHIS\",21/04/1983,18:08:44,revisado\\n',\n",
       " '21/04/1983,15:28:42,no calculable,16.01,-97.12,15,\"17 km al NOROESTE de PUERTO ESCONDIDO, OAX\",21/04/1983,21:28:42,revisado\\n',\n",
       " '21/04/1983,17:44:45,no calculable,14.61,-93.56,33,\"117 km al SUROESTE de MAPASTEPEC, CHIS\",21/04/1983,23:44:45,revisado\\n',\n",
       " '21/04/1983,19:09:37,no calculable,13.37,-92.56,33,\"151 km al SUROESTE de CD HIDALGO, CHIS\",22/04/1983,01:09:37,revisado\\n',\n",
       " '21/04/1983,19:24:37,no calculable,15.94,-94.05,33,\"35 km al SUROESTE de TONALA, CHIS\",22/04/1983,01:24:37,revisado\\n',\n",
       " '22/04/1983,01:44:11,4.5,13.8,-91.47,33,\"122 km al SURESTE de CD HIDALGO, CHIS\",22/04/1983,07:44:11,revisado\\n',\n",
       " '22/04/1983,04:20:29,no calculable,14.66,-93.24,33,\"94 km al SUROESTE de MAPASTEPEC, CHIS\",22/04/1983,10:20:29,revisado\\n',\n",
       " '22/04/1983,05:08:56,no calculable,14.61,-93.61,33,\"120 km al SUROESTE de MAPASTEPEC, CHIS\",22/04/1983,11:08:56,revisado\\n',\n",
       " '22/04/1983,07:21:41,no calculable,14.41,-94.77,33,\"201 km al SUR de SALINA CRUZ, OAX\",22/04/1983,13:21:41,revisado\\n',\n",
       " '22/04/1983,21:51:14,no calculable,16.32,-98.59,33,\"45 km al SUROESTE de OMETEPEC, GRO\",23/04/1983,03:51:14,revisado\\n',\n",
       " '22/04/1983,22:50:38,no calculable,15.97,-98.61,33,\"72 km al SUROESTE de PINOTEPA NACIONAL, OAX\",23/04/1983,04:50:38,revisado\\n',\n",
       " '22/04/1983,23:49:46,no calculable,16.58,-94.94,33,\"17 km al NOROESTE de UNION HIDALGO, OAX\",23/04/1983,05:49:46,revisado\\n',\n",
       " '23/04/1983,03:28:15,no calculable,14.39,-94.23,33,\"180 km al SUROESTE de PIJIJIAPAN, CHIS\",23/04/1983,09:28:15,revisado\\n',\n",
       " '23/04/1983,10:54:55,no calculable,15.59,-93.52,33,\"35 km al SUROESTE de PIJIJIAPAN, CHIS\",23/04/1983,16:54:55,revisado\\n',\n",
       " '23/04/1983,15:26:22,no calculable,15.74,-94.01,33,\"47 km al SUROESTE de TONALA, CHIS\",23/04/1983,21:26:22,revisado\\n',\n",
       " '23/04/1983,20:11:38,no calculable,16.12,-99.27,33,\"76 km al SUR de SAN MARCOS, GRO\",24/04/1983,02:11:38,revisado\\n',\n",
       " '24/04/1983,03:09:11,no calculable,16.87,-98.7,33,\"38 km al NOROESTE de OMETEPEC, GRO\",24/04/1983,09:09:11,revisado\\n',\n",
       " '24/04/1983,11:02:41,no calculable,13.83,-92.38,33,\"97 km al SUR de CD HIDALGO, CHIS\",24/04/1983,17:02:41,revisado\\n',\n",
       " '24/04/1983,13:20:54,no calculable,15.45,-95.27,33,\"81 km al SUR de SALINA CRUZ, OAX\",24/04/1983,19:20:54,revisado\\n',\n",
       " '24/04/1983,20:54:58,no calculable,15.24,-95.06,33,\"105 km al SUR de SALINA CRUZ, OAX\",25/04/1983,02:54:58,revisado\\n',\n",
       " '24/04/1983,22:18:55,no calculable,17.72,-91.31,33,\"26 km al SURESTE de BALANCAN, TAB\",25/04/1983,04:18:55,revisado\\n',\n",
       " '25/04/1983,04:52:23,no calculable,15.71,-93.92,33,\"45 km al SUROESTE de TONALA, CHIS\",25/04/1983,10:52:23,revisado\\n',\n",
       " '25/04/1983,20:26:10,no calculable,14.9,-96.28,33,\"95 km al SUR de S PEDRO POCHUTLA, OAX\",26/04/1983,02:26:10,revisado\\n',\n",
       " '25/04/1983,21:35:32,no calculable,16.26,-89.36,33,\"258 km al SURESTE de TENOSIQUE, TAB\",26/04/1983,03:35:32,revisado\\n',\n",
       " '26/04/1983,05:47:03,no calculable,14.59,-92.94,33,\"79 km al SUROESTE de HUIXTLA, CHIS\",26/04/1983,11:47:03,revisado\\n',\n",
       " '26/04/1983,13:32:10,no calculable,16.65,-95.71,33,\"62 km al NOROESTE de TEHUANTEPEC, OAX\",26/04/1983,19:32:10,revisado\\n',\n",
       " '26/04/1983,17:52:28,no calculable,14.04,-93.41,33,\"153 km al SUROESTE de CD HIDALGO, CHIS\",26/04/1983,23:52:28,revisado\\n',\n",
       " '27/04/1983,10:48:25,no calculable,13.87,-92.11,33,\"90 km al SUR de CD HIDALGO, CHIS\",27/04/1983,16:48:25,revisado\\n',\n",
       " '27/04/1983,11:15:18,no calculable,16.49,-94.75,33,\"9 km al ESTE de UNION HIDALGO, OAX\",27/04/1983,17:15:18,revisado\\n',\n",
       " '27/04/1983,16:40:12,no calculable,16.12,-94.21,33,\"36 km al SUROESTE de ARRIAGA , CHIS\",27/04/1983,22:40:12,revisado\\n',\n",
       " '27/04/1983,17:22:39,no calculable,13.98,-93.54,33,\"168 km al SUROESTE de CD HIDALGO, CHIS\",27/04/1983,23:22:39,revisado\\n',\n",
       " '27/04/1983,17:27:01,no calculable,15.69,-93.68,33,\"45 km al SUR de TONALA, CHIS\",27/04/1983,23:27:01,revisado\\n',\n",
       " '27/04/1983,18:37:57,no calculable,15.11,-94.72,33,\"129 km al SURESTE de SALINA CRUZ, OAX\",28/04/1983,00:37:57,revisado\\n',\n",
       " '27/04/1983,21:11:48,no calculable,13.2,-92.71,33,\"174 km al SUROESTE de CD HIDALGO, CHIS\",28/04/1983,03:11:48,revisado\\n',\n",
       " '28/04/1983,01:44:31,no calculable,15.49,-94.8,33,\"87 km al SURESTE de SALINA CRUZ, OAX\",28/04/1983,07:44:31,revisado\\n',\n",
       " '28/04/1983,08:25:19,no calculable,14.56,-93.56,33,\"121 km al SUROESTE de MAPASTEPEC, CHIS\",28/04/1983,14:25:19,revisado\\n',\n",
       " '28/04/1983,22:44:43,2.8,20.8,-99.4,10,\"7 km al NOROESTE de ZIMAPAN, HGO\",29/04/1983,04:44:43,revisado\\n',\n",
       " '29/04/1983,03:40:21,no calculable,14.83,-94.21,33,\"143 km al SUROESTE de PIJIJIAPAN, CHIS\",29/04/1983,09:40:21,revisado\\n',\n",
       " '29/04/1983,08:08:42,3.5,17,-101.3,15,\"59 km al SUR de PETATLAN, GRO\",29/04/1983,14:08:42,revisado\\n',\n",
       " '29/04/1983,09:19:27,1.9,31.83,-116.15,8,\"41 km al NORESTE de RODOLFO SANCHEZ T(MRO), BC\",29/04/1983,15:19:27,revisado\\n',\n",
       " '29/04/1983,23:51:57,no calculable,14.73,-94.02,33,\"137 km al SUROESTE de PIJIJIAPAN, CHIS\",30/04/1983,05:51:57,revisado\\n',\n",
       " '30/04/1983,01:32:53,no calculable,15.31,-93.66,33,\"64 km al SUROESTE de PIJIJIAPAN, CHIS\",30/04/1983,07:32:53,revisado\\n',\n",
       " '30/04/1983,02:18:27,no calculable,14.05,-92.61,33,\"85 km al SUROESTE de CD HIDALGO, CHIS\",30/04/1983,08:18:27,revisado\\n',\n",
       " '30/04/1983,07:20:18,no calculable,13.61,-92.11,33,\"118 km al SUR de CD HIDALGO, CHIS\",30/04/1983,13:20:18,revisado\\n',\n",
       " '30/04/1983,08:22:40,no calculable,15.67,-93.2,33,\"2 km al SURESTE de PIJIJIAPAN, CHIS\",30/04/1983,14:22:40,revisado\\n',\n",
       " '30/04/1983,09:00:29,no calculable,17.4,-92.2,33,\"26 km al SUROESTE de PALENQUE, CHIS\",30/04/1983,15:00:29,revisado\\n',\n",
       " '30/04/1983,14:14:21,no calculable,17.92,-94.32,33,\"19 km al SURESTE de NANCHITAL, VER\",30/04/1983,20:14:21,revisado\\n',\n",
       " '30/04/1983,16:55:37,no calculable,16.89,-96.24,33,\"26 km al SURESTE de TLACOLULA, OAX\",30/04/1983,22:55:37,revisado\\n',\n",
       " '30/04/1983,20:06:50,2.1,31.64,-116.01,34,\"54 km al ESTE de RODOLFO SANCHEZ T(MRO), BC\",01/05/1983,02:06:50,revisado\\n',\n",
       " '30/04/1983,22:08:19,no calculable,14.04,-93.59,33,\"170 km al SUROESTE de CD HIDALGO, CHIS\",01/05/1983,04:08:19,revisado\\n',\n",
       " '30/04/1983,23:57:23,no calculable,18.04,-92.58,33,\"24 km al NORTE de BENITO JUAREZ, TAB\",01/05/1983,05:57:23,revisado\\n',\n",
       " '01/05/1983,06:18:16,no calculable,15.2,-94.8,33,\"117 km al SURESTE de SALINA CRUZ, OAX\",01/05/1983,12:18:16,revisado\\n',\n",
       " '01/05/1983,07:07:17,no calculable,17.72,-96.21,33,\"41 km al SUR de TUXTEPEC, OAX\",01/05/1983,13:07:17,revisado\\n',\n",
       " '01/05/1983,08:57:03,no calculable,15.33,-93.42,33,\"45 km al SUROESTE de PIJIJIAPAN, CHIS\",01/05/1983,14:57:03,revisado\\n',\n",
       " '01/05/1983,12:25:37,no calculable,16.76,-94.91,33,\"19 km al SURESTE de MATIAS ROMERO, OAX\",01/05/1983,18:25:37,revisado\\n',\n",
       " '01/05/1983,17:56:20,no calculable,18.67,-89.35,33,\"112 km al OESTE de CHETUMAL, QR\",01/05/1983,23:56:20,revisado\\n',\n",
       " '02/05/1983,14:58:34,2.5,19.9,-99.6,10,\"9 km al SUROESTE de JILOTEPEC, MEX\",02/05/1983,20:58:34,revisado\\n',\n",
       " '02/05/1983,15:13:31,2.3,19.7,-99.5,10,\"21 km al NOROESTE de V NICOLAS ROMERO, MEX\",02/05/1983,21:13:31,revisado\\n',\n",
       " '02/05/1983,15:52:11,no calculable,14.2,-92.12,33,\"53 km al SUR de CD HIDALGO, CHIS\",02/05/1983,21:52:11,revisado\\n',\n",
       " '03/05/1983,00:30:33,no calculable,14.94,-93.94,33,\"114 km al SUROESTE de PIJIJIAPAN, CHIS\",03/05/1983,06:30:33,revisado\\n',\n",
       " '03/05/1983,03:25:36,no calculable,14.19,-94.01,33,\"183 km al SUROESTE de MAPASTEPEC, CHIS\",03/05/1983,09:25:36,revisado\\n',\n",
       " '03/05/1983,03:45:23,no calculable,17.94,-94.81,33,\"9 km al ESTE de OLUTA, VER\",03/05/1983,09:45:23,revisado\\n',\n",
       " '03/05/1983,04:49:26,no calculable,16.64,-94.97,33,\"16 km al NORESTE de CD IXTEPEC, OAX\",03/05/1983,10:49:26,revisado\\n',\n",
       " '03/05/1983,05:27:33,no calculable,15.89,-94.25,33,\"53 km al SUROESTE de ARRIAGA , CHIS\",03/05/1983,11:27:33,revisado\\n',\n",
       " '03/05/1983,10:17:03,4,16.34,-100.09,33,\"62 km al SUROESTE de ACAPULCO, GRO\",03/05/1983,16:17:03,revisado\\n',\n",
       " '03/05/1983,19:08:02,no calculable,15.91,-98.62,25,\"77 km al SUROESTE de PINOTEPA NACIONAL, OAX\",04/05/1983,01:08:02,revisado\\n',\n",
       " '03/05/1983,20:30:25,no calculable,16,-100.18,33,\"101 km al SUROESTE de ACAPULCO, GRO\",04/05/1983,02:30:25,revisado\\n',\n",
       " '03/05/1983,21:02:50,no calculable,18.4,-94.79,33,\"34 km al ESTE de CATEMACO, VER\",04/05/1983,03:02:50,revisado\\n',\n",
       " '03/05/1983,23:55:11,no calculable,15.36,-93.22,33,\"36 km al SUR de PIJIJIAPAN, CHIS\",04/05/1983,05:55:11,revisado\\n',\n",
       " '04/05/1983,00:37:11,no calculable,15.52,-93.26,33,\"19 km al SUROESTE de PIJIJIAPAN, CHIS\",04/05/1983,06:37:11,revisado\\n',\n",
       " '04/05/1983,00:42:04,no calculable,16.4,-94.5,33,\"36 km al ESTE de UNION HIDALGO, OAX\",04/05/1983,06:42:04,revisado\\n',\n",
       " '04/05/1983,04:12:31,no calculable,15.27,-93.19,33,\"37 km al SUROESTE de MAPASTEPEC, CHIS\",04/05/1983,10:12:31,revisado\\n',\n",
       " '04/05/1983,04:35:12,no calculable,15.51,-93.29,33,\"21 km al SUROESTE de PIJIJIAPAN, CHIS\",04/05/1983,10:35:12,revisado\\n',\n",
       " '04/05/1983,07:18:40,no calculable,18.36,-90.59,33,\"31 km al SURESTE de ESCARCEGA, CAMP\",04/05/1983,13:18:40,revisado\\n',\n",
       " '04/05/1983,09:44:54,2.6,31.64,-115.97,8,\"58 km al ESTE de RODOLFO SANCHEZ T(MRO), BC\",04/05/1983,15:44:54,revisado\\n',\n",
       " '04/05/1983,11:27:45,2.3,31.41,-115.7,8,\"81 km al NORESTE de VICENTE GUERRERO, BC\",04/05/1983,17:27:45,revisado\\n',\n",
       " '04/05/1983,14:18:35,2.2,31.73,-115.92,9,\"62 km al ESTE de RODOLFO SANCHEZ T(MRO), BC\",04/05/1983,20:18:35,revisado\\n',\n",
       " '04/05/1983,22:20:54,no calculable,17.51,-97.68,70,\"27 km al NORTE de H TLAXIACO, OAX\",05/05/1983,04:20:54,revisado\\n',\n",
       " '04/05/1983,22:28:08,no calculable,15.43,-96.4,33,\"35 km al SUR de S PEDRO POCHUTLA, OAX\",05/05/1983,04:28:08,revisado\\n',\n",
       " '04/05/1983,23:01:23,no calculable,15.02,-92.88,33,\"46 km al SUROESTE de HUIXTLA, CHIS\",05/05/1983,05:01:23,revisado\\n',\n",
       " '05/05/1983,05:36:40,no calculable,15.92,-93.81,33,\"19 km al SUROESTE de TONALA, CHIS\",05/05/1983,11:36:40,revisado\\n',\n",
       " '05/05/1983,21:35:04,no calculable,15.42,-93.15,33,\"28 km al OESTE de MAPASTEPEC, CHIS\",06/05/1983,03:35:04,revisado\\n',\n",
       " '05/05/1983,21:55:46,no calculable,14.93,-92.67,33,\"32 km al SUROESTE de HUIXTLA, CHIS\",06/05/1983,03:55:46,revisado\\n',\n",
       " '06/05/1983,01:14:53,no calculable,17.07,-95.45,33,\"49 km al NOROESTE de MATIAS ROMERO, OAX\",06/05/1983,07:14:53,revisado\\n',\n",
       " '06/05/1983,01:31:42,no calculable,15.89,-94.08,33,\"41 km al SUROESTE de TONALA, CHIS\",06/05/1983,07:31:42,revisado\\n',\n",
       " '06/05/1983,05:32:04,no calculable,16.9,-99.64,33,\"28 km al ESTE de ACAPULCO, GRO\",06/05/1983,11:32:04,revisado\\n',\n",
       " '06/05/1983,07:17:43,no calculable,16.54,-95.53,33,\"39 km al NOROESTE de TEHUANTEPEC, OAX\",06/05/1983,13:17:43,revisado\\n',\n",
       " '06/05/1983,17:27:48,no calculable,16.27,-94.38,33,\"52 km al OESTE de ARRIAGA , CHIS\",06/05/1983,23:27:48,revisado\\n',\n",
       " '06/05/1983,23:54:38,no calculable,14.97,-93.68,33,\"94 km al SUROESTE de PIJIJIAPAN, CHIS\",07/05/1983,05:54:38,revisado\\n',\n",
       " '07/05/1983,01:00:02,5.5,15.87,-95.44,25,\"43 km al SUROESTE de SALINA CRUZ, OAX\",07/05/1983,07:00:02,revisado\\n',\n",
       " '07/05/1983,01:54:43,no calculable,15.76,-89.77,33,\"244 km al ESTE de LAS MARGARITAS, CHIS\",07/05/1983,07:54:43,revisado\\n',\n",
       " '07/05/1983,05:26:10,no calculable,14.94,-98.37,33,\"155 km al SUROESTE de RIO GRANDE, OAX\",07/05/1983,11:26:10,revisado\\n',\n",
       " '07/05/1983,16:06:18,no calculable,13.73,-92.27,33,\"106 km al SUR de CD HIDALGO, CHIS\",07/05/1983,22:06:18,revisado\\n',\n",
       " '07/05/1983,16:21:58,no calculable,16.87,-101.61,15,\"82 km al SUROESTE de PETATLAN, GRO\",07/05/1983,22:21:58,revisado\\n',\n",
       " '07/05/1983,16:40:49,no calculable,14.3,-92.47,33,\"54 km al SUROESTE de CD HIDALGO, CHIS\",07/05/1983,22:40:49,revisado\\n',\n",
       " '07/05/1983,19:30:45,no calculable,18.3,-90.83,33,\"35 km al SUROESTE de ESCARCEGA, CAMP\",08/05/1983,01:30:45,revisado\\n',\n",
       " '08/05/1983,02:16:24,no calculable,13.75,-92.67,33,\"117 km al SUROESTE de CD HIDALGO, CHIS\",08/05/1983,08:16:24,revisado\\n',\n",
       " '08/05/1983,02:53:49,no calculable,13.44,-92.47,33,\"141 km al SUR de CD HIDALGO, CHIS\",08/05/1983,08:53:49,revisado\\n',\n",
       " '08/05/1983,03:03:19,no calculable,17.17,-94.93,100,\"35 km al NORESTE de MATIAS ROMERO, OAX\",08/05/1983,09:03:19,revisado\\n',\n",
       " '08/05/1983,03:16:39,no calculable,17.85,-90.99,33,\"58 km al ESTE de BALANCAN, TAB\",08/05/1983,09:16:39,revisado\\n',\n",
       " '08/05/1983,03:21:58,no calculable,13.7,-92.89,33,\"134 km al SUROESTE de CD HIDALGO, CHIS\",08/05/1983,09:21:58,revisado\\n',\n",
       " '08/05/1983,05:12:07,no calculable,15.9,-94.21,60,\"50 km al SUROESTE de ARRIAGA , CHIS\",08/05/1983,11:12:07,revisado\\n',\n",
       " '08/05/1983,07:36:47,4.7,20.11,-109.52,9,\"310 km al SUR de CABO SAN LUCAS, BCS\",08/05/1983,13:36:47,revisado\\n']"
      ]
     },
     "execution_count": 13,
     "metadata": {},
     "output_type": "execute_result"
    }
   ],
   "source": [
    "f.readlines()"
   ]
  },
  {
   "cell_type": "markdown",
   "metadata": {},
   "source": [
    "## Lectura línea a línea"
   ]
  },
  {
   "cell_type": "markdown",
   "metadata": {},
   "source": [
    "Hay situaciones en las que interesa leer el contenido del fichero línea a línea. Imaginemos un\n",
    "fichero de tamaño considerable (varios GB). Si intentamos leer completamente este fichero\n",
    "de sola una vez podríamos ocupar demasiada RAM y reducir el rendimiento de nuestra\n",
    "máquina."
   ]
  },
  {
   "cell_type": "code",
   "execution_count": 21,
   "metadata": {},
   "outputs": [],
   "source": [
    "for line in f:\n",
    "    print(line)"
   ]
  },
  {
   "cell_type": "markdown",
   "metadata": {},
   "source": [
    "## Escritura en un archivo"
   ]
  },
  {
   "cell_type": "markdown",
   "metadata": {},
   "source": [
    "Para escribir texto en un archivo hay que abrir dicho archivo en modo escritura. Para ello\n",
    "utilizamos un argumento adicional en la función open() que indica esta operación:"
   ]
  },
  {
   "cell_type": "code",
   "execution_count": 35,
   "metadata": {},
   "outputs": [],
   "source": [
    "f3 = open('../files/data_Oaxaca.csv','w')"
   ]
  },
  {
   "cell_type": "code",
   "execution_count": 36,
   "metadata": {},
   "outputs": [],
   "source": [
    "data_Oaxaca =[36.5, 33.2, 28.9, 40.1, 31.7]"
   ]
  },
  {
   "cell_type": "code",
   "execution_count": 37,
   "metadata": {},
   "outputs": [],
   "source": [
    "for temp in data_Oaxaca:\n",
    "    f3.write(str(temp) + ', ')"
   ]
  },
  {
   "cell_type": "code",
   "execution_count": 38,
   "metadata": {},
   "outputs": [],
   "source": [
    "f3.close()"
   ]
  },
  {
   "cell_type": "markdown",
   "metadata": {},
   "source": [
    "### Añadido información a un archivo existente"
   ]
  },
  {
   "cell_type": "code",
   "execution_count": 39,
   "metadata": {},
   "outputs": [],
   "source": [
    "f4 = open('../files/data_Oaxaca.csv','a')"
   ]
  },
  {
   "cell_type": "code",
   "execution_count": 40,
   "metadata": {},
   "outputs": [],
   "source": [
    "data_Oaxaca =[10,2, 15.9, 20.3, 21.1, 9.8]"
   ]
  },
  {
   "cell_type": "code",
   "execution_count": 41,
   "metadata": {},
   "outputs": [],
   "source": [
    "for temp in data_Oaxaca:\n",
    "    f4.write(str(temp) + ', ')"
   ]
  },
  {
   "cell_type": "code",
   "execution_count": 42,
   "metadata": {},
   "outputs": [],
   "source": [
    "f4.close()"
   ]
  },
  {
   "cell_type": "markdown",
   "metadata": {},
   "source": [
    "### Usandos contextos"
   ]
  },
  {
   "cell_type": "markdown",
   "metadata": {},
   "source": [
    "Python ofrece gestores de contexto como una solución para establecer reglas de entrada y\n",
    "salida a un determinado bloque de código."
   ]
  },
  {
   "cell_type": "code",
   "execution_count": 43,
   "metadata": {},
   "outputs": [],
   "source": [
    "with open('../files/data_oaxaca.csv') as f:\n",
    "    for line in f:\n",
    "        temp = line.strip().split(',')"
   ]
  },
  {
   "cell_type": "code",
   "execution_count": 44,
   "metadata": {},
   "outputs": [
    {
     "name": "stdout",
     "output_type": "stream",
     "text": [
      "['36.5', ' 33.2', ' 28.9', ' 40.1', ' 31.7', ' 10', ' 2', ' 15.9', ' 20.3', ' 21.1', ' 9.8', '']\n"
     ]
    }
   ],
   "source": [
    "print(temp)"
   ]
  }
 ],
 "metadata": {
  "interpreter": {
   "hash": "324e4981b070af085aa545d8068f309933ece96581d51f0c4476a35e325f9be4"
  },
  "kernelspec": {
   "display_name": "Python 3.10.2 64-bit",
   "language": "python",
   "name": "python3"
  },
  "language_info": {
   "codemirror_mode": {
    "name": "ipython",
    "version": 3
   },
   "file_extension": ".py",
   "mimetype": "text/x-python",
   "name": "python",
   "nbconvert_exporter": "python",
   "pygments_lexer": "ipython3",
   "version": "3.10.2"
  },
  "orig_nbformat": 4
 },
 "nbformat": 4,
 "nbformat_minor": 2
}
