{
 "cells": [
  {
   "cell_type": "code",
   "execution_count": null,
   "metadata": {},
   "outputs": [],
   "source": []
  },
  {
   "cell_type": "markdown",
   "metadata": {},
   "source": [
    "# Entorno de desarrollo"
   ]
  },
  {
   "cell_type": "markdown",
   "metadata": {},
   "source": [
    "Debemos instalar librerías que se vayan a utilizar para cada ejercicio."
   ]
  },
  {
   "cell_type": "markdown",
   "metadata": {},
   "source": [
    "Matplotlib: Esta es una de las librerías de Python más usadas, pues su procesamiento y generador de gráficos son de amplia calidad."
   ]
  },
  {
   "cell_type": "markdown",
   "metadata": {},
   "source": [
    "Seaborn: Seaborn es una librería gráfica de Python especializada en la visualización de datos estadísticos."
   ]
  },
  {
   "cell_type": "markdown",
   "metadata": {},
   "source": [
    "NumPy: De todas las librerías de Python, Numpy te permite crear una estructura universal de datos para facilitar su análisis e intercambio de varios algoritmos."
   ]
  },
  {
   "cell_type": "markdown",
   "metadata": {},
   "source": [
    "SciPy: SciPy es una librería de python especializada en el cálculo numérico y el análisis de datos, pues te permite crear rutinas numéricas con estructura de datos. Además, es sencilla de usar y operar, e incorpora las siguientes funciones: optimización, integración numérica, álgebra lineal, estadística, transformadas de Fourier, etc. "
   ]
  },
  {
   "cell_type": "markdown",
   "metadata": {},
   "source": [
    "Pandas: Pandas es una de las más útiles que encontrarás. Sus principales funciones se conforman por Series de datos y el Data Frame para dos dimensiones. Adicionalmente, es muy sencilla de usar para manipular datos y se utiliza en campos como finanzas, ciencias sociales, estadística e ingeniería. "
   ]
  },
  {
   "cell_type": "markdown",
   "metadata": {},
   "source": [
    "TensorFlow: Forma parte de las librerías de Python que fueron desarrolladas por Google. Te permite realizar cálculos numéricos gracias a diagramas de flujo de datos y se usa para varias aplicaciones de cálculo científico como Deep Learning."
   ]
  },
  {
   "cell_type": "markdown",
   "metadata": {},
   "source": [
    "Ipywidgets: también conocidos como jupyter-widgets o simplemente widgets, son widgets HTML interactivos para portátiles Jupyter y el kernel de IPython."
   ]
  },
  {
   "cell_type": "markdown",
   "metadata": {},
   "source": [
    "# Instalacción de una biblioteca."
   ]
  },
  {
   "cell_type": "markdown",
   "metadata": {},
   "source": []
  },
  {
   "cell_type": "code",
   "execution_count": null,
   "metadata": {},
   "outputs": [],
   "source": [
    "pip install ipywidgets"
   ]
  },
  {
   "cell_type": "markdown",
   "metadata": {},
   "source": [
    "# Importación de la librería."
   ]
  },
  {
   "cell_type": "code",
   "execution_count": 1,
   "metadata": {},
   "outputs": [],
   "source": [
    "import ipywidgets as widgets"
   ]
  },
  {
   "cell_type": "markdown",
   "metadata": {},
   "source": [
    "# Utilización de la libreria en una función de python."
   ]
  },
  {
   "cell_type": "code",
   "execution_count": 2,
   "metadata": {},
   "outputs": [],
   "source": [
    "mensaje = widgets.ToggleButton(\n",
    "    value=False,\n",
    "    description='Hola Alumnos',\n",
    "    button_style='success',\n",
    "    tooltip='Iniciar el curso',\n",
    "    icon='trophy'\n",
    ")"
   ]
  },
  {
   "cell_type": "markdown",
   "metadata": {},
   "source": [
    "# Llamar a la función mensaje."
   ]
  },
  {
   "cell_type": "code",
   "execution_count": 3,
   "metadata": {},
   "outputs": [
    {
     "data": {
      "application/vnd.jupyter.widget-view+json": {
       "model_id": "6d3b6aeecbb94cff827afc9727c1c516",
       "version_major": 2,
       "version_minor": 0
      },
      "text/plain": [
       "ToggleButton(value=False, button_style='success', description='Hola Alumnos', icon='trophy', tooltip='Iniciar …"
      ]
     },
     "metadata": {},
     "output_type": "display_data"
    },
    {
     "data": {
      "application/vnd.jupyter.widget-view+json": {
       "model_id": "e9cdce46a7b54dd4b42956294f6ccb84",
       "version_major": 2,
       "version_minor": 0
      },
      "text/plain": [
       "Output()"
      ]
     },
     "metadata": {},
     "output_type": "display_data"
    }
   ],
   "source": [
    "output = widgets.Output()\n",
    "display(mensaje, output)"
   ]
  },
  {
   "cell_type": "markdown",
   "metadata": {},
   "source": [
    "# Generamos otra función que capture la presión del botón."
   ]
  },
  {
   "cell_type": "code",
   "execution_count": 19,
   "metadata": {},
   "outputs": [],
   "source": [
    "def onPress(change):\n",
    "    with output:\n",
    "        if change['new'] == True:\n",
    "            print(\"Has presionado el botón\")\n",
    "            print(\"adios\")\n",
    "        else:   \n",
    "            print(\"Has vuelto a presionar el botón\")\n",
    "            print(\"hola\")"
   ]
  },
  {
   "cell_type": "markdown",
   "metadata": {},
   "source": [
    "# Crear el observador y enlazarlo a la función onpress"
   ]
  },
  {
   "cell_type": "code",
   "execution_count": 21,
   "metadata": {},
   "outputs": [],
   "source": [
    "mensaje.observe(onPress, names='value')"
   ]
  }
 ],
 "metadata": {
  "interpreter": {
   "hash": "324e4981b070af085aa545d8068f309933ece96581d51f0c4476a35e325f9be4"
  },
  "kernelspec": {
   "display_name": "Python 3.10.2 64-bit",
   "language": "python",
   "name": "python3"
  },
  "language_info": {
   "codemirror_mode": {
    "name": "ipython",
    "version": 3
   },
   "file_extension": ".py",
   "mimetype": "text/x-python",
   "name": "python",
   "nbconvert_exporter": "python",
   "pygments_lexer": "ipython3",
   "version": "3.10.2"
  },
  "orig_nbformat": 4
 },
 "nbformat": 4,
 "nbformat_minor": 2
}
