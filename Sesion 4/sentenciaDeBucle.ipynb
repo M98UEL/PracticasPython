{
 "cells": [
  {
   "cell_type": "markdown",
   "metadata": {},
   "source": [
    "# Bucle o ciclos"
   ]
  },
  {
   "cell_type": "code",
   "execution_count": 6,
   "metadata": {},
   "outputs": [
    {
     "name": "stdout",
     "output_type": "stream",
     "text": [
      "1\n",
      "2\n",
      "3\n",
      "4\n",
      "5\n",
      "6\n",
      "7\n",
      "8\n",
      "9\n",
      "10\n"
     ]
    }
   ],
   "source": [
    "valor = 1\n",
    "while valor <= 10:\n",
    "    print(valor)\n",
    "    valor += 1"
   ]
  },
  {
   "cell_type": "markdown",
   "metadata": {},
   "source": [
    "## Rompiendo el bucle"
   ]
  },
  {
   "cell_type": "code",
   "execution_count": 7,
   "metadata": {},
   "outputs": [
    {
     "name": "stdout",
     "output_type": "stream",
     "text": [
      "35\n"
     ]
    }
   ],
   "source": [
    "num = 39\n",
    "while num >= 1:\n",
    "    if num % 5 == 0:\n",
    "        print(num)\n",
    "        break\n",
    "    num -= 1"
   ]
  },
  {
   "cell_type": "markdown",
   "metadata": {},
   "source": []
  },
  {
   "cell_type": "markdown",
   "metadata": {},
   "source": [
    "## Comprobando el break"
   ]
  },
  {
   "cell_type": "code",
   "execution_count": 10,
   "metadata": {},
   "outputs": [
    {
     "name": "stdout",
     "output_type": "stream",
     "text": [
      "No es multiplo de 11\n"
     ]
    }
   ],
   "source": [
    "num = 10\n",
    "\n",
    "while num >= 1:\n",
    "    if num % 11 == 0:\n",
    "        print(f'{num} es un multiplo de 11')\n",
    "        break\n",
    "    num -= 1\n",
    "else:\n",
    "    print('No es multiplo de 11')"
   ]
  },
  {
   "cell_type": "markdown",
   "metadata": {},
   "source": [
    "## Continuar con el ciclo"
   ]
  },
  {
   "cell_type": "code",
   "execution_count": 12,
   "metadata": {},
   "outputs": [
    {
     "name": "stdout",
     "output_type": "stream",
     "text": [
      "49, 47, 45, 43, 41, 39, 37, 35, 33, 31, 29, 27, 25, 23, 21, 19, 17, 15, 13, 11, 9, 7, 5, 3, 1, "
     ]
    }
   ],
   "source": [
    "num = 50\n",
    "\n",
    "while num >= 1:\n",
    "    num -= 1\n",
    "    if (num % 2 == 0):\n",
    "        continue\n",
    "    print(num, end=', ')"
   ]
  },
  {
   "cell_type": "markdown",
   "metadata": {},
   "source": [
    "## Bucle Infinito"
   ]
  },
  {
   "cell_type": "code",
   "execution_count": 13,
   "metadata": {},
   "outputs": [
    {
     "ename": "KeyboardInterrupt",
     "evalue": "",
     "output_type": "error",
     "traceback": [
      "\u001b[1;31m---------------------------------------------------------------------------\u001b[0m",
      "\u001b[1;31mKeyboardInterrupt\u001b[0m                         Traceback (most recent call last)",
      "\u001b[1;32mc:\\Users\\opet1\\Desktop\\Curso Python UGMEX\\Sesion 4\\sentenciaDeBucle.ipynb Cell 11'\u001b[0m in \u001b[0;36m<module>\u001b[1;34m\u001b[0m\n\u001b[0;32m      <a href='vscode-notebook-cell:/c%3A/Users/opet1/Desktop/Curso%20Python%20UGMEX/Sesion%204/sentenciaDeBucle.ipynb#ch0000010?line=0'>1</a>\u001b[0m num \u001b[39m=\u001b[39m \u001b[39m1\u001b[39m\n\u001b[1;32m----> <a href='vscode-notebook-cell:/c%3A/Users/opet1/Desktop/Curso%20Python%20UGMEX/Sesion%204/sentenciaDeBucle.ipynb#ch0000010?line=1'>2</a>\u001b[0m \u001b[39mwhile\u001b[39;00m num \u001b[39m!=\u001b[39;49m \u001b[39m10\u001b[39;49m:\n\u001b[0;32m      <a href='vscode-notebook-cell:/c%3A/Users/opet1/Desktop/Curso%20Python%20UGMEX/Sesion%204/sentenciaDeBucle.ipynb#ch0000010?line=2'>3</a>\u001b[0m     num \u001b[39m+\u001b[39m\u001b[39m=\u001b[39m \u001b[39m2\u001b[39m\n",
      "\u001b[1;31mKeyboardInterrupt\u001b[0m: "
     ]
    }
   ],
   "source": [
    "num = 1\n",
    "while num != 10:\n",
    "    num += 2"
   ]
  },
  {
   "cell_type": "markdown",
   "metadata": {},
   "source": [
    "## Ejercicio"
   ]
  },
  {
   "cell_type": "markdown",
   "metadata": {},
   "source": [
    "Escriba un programa que calcule la distancia hamming entre dos cadenas de texto de la\n",
    "misma longitud."
   ]
  },
  {
   "cell_type": "markdown",
   "metadata": {},
   "source": [
    "<a href=\"https://es.wikipedia.org/wiki/Distancia_de_Hamming\"> Que es hamming</a>"
   ]
  },
  {
   "cell_type": "markdown",
   "metadata": {},
   "source": [
    "Ejemplo\n",
    "- Entrada: 000<span style=\"color:blue\">10</span>1001<span style=\"color:blue\">11</span>01 y 000<span style=\"color:red\">01</span>1001<span style=\"color:red\">00</span>01\n",
    "- Salida: 4"
   ]
  },
  {
   "cell_type": "markdown",
   "metadata": {},
   "source": [
    "# Ciclo for"
   ]
  },
  {
   "cell_type": "markdown",
   "metadata": {},
   "source": [
    "Python permite recorrer aquellos tipos de datos que sean iterables, es decir, que admitan\n",
    "iterar2 sobre ellos. Algunos ejemplos de tipos y estructuras de datos que permiten ser iteradas\n",
    "(recorridas) son: cadenas de texto, listas, diccionarios, ficheros, etc. La sentencia for nos\n",
    "permite realizar esta acción."
   ]
  },
  {
   "cell_type": "code",
   "execution_count": 15,
   "metadata": {},
   "outputs": [
    {
     "name": "stdout",
     "output_type": "stream",
     "text": [
      "S\n",
      "o\n",
      "f\n",
      "t\n",
      "w\n",
      "a\n",
      "r\n",
      "e\n",
      " \n",
      "d\n",
      "e\n",
      " \n",
      "s\n",
      "i\n",
      "s\n",
      "t\n",
      "e\n",
      "m\n",
      "a\n",
      "s\n",
      " \n",
      "I\n",
      "I\n"
     ]
    }
   ],
   "source": [
    "frase = 'Software de sistemas II'\n",
    "\n",
    "for letra in frase:\n",
    "    print(letra)"
   ]
  },
  {
   "cell_type": "markdown",
   "metadata": {},
   "source": [
    "## Romper el ciclo for"
   ]
  },
  {
   "cell_type": "code",
   "execution_count": 16,
   "metadata": {},
   "outputs": [
    {
     "name": "stdout",
     "output_type": "stream",
     "text": [
      "S\n",
      "o\n",
      "f\n",
      "t\n",
      "w\n",
      "a\n",
      "r\n",
      "e\n"
     ]
    }
   ],
   "source": [
    "for letra in frase:\n",
    "    if letra == ' ':\n",
    "        break\n",
    "    print(letra)"
   ]
  },
  {
   "cell_type": "markdown",
   "metadata": {},
   "source": [
    "## Secuencias de números"
   ]
  },
  {
   "cell_type": "markdown",
   "metadata": {},
   "source": [
    "Es muy habitual hacer uso de secuencias de números en bucles. Python no tiene una\n",
    "instrucción específica para ello. Lo que sí aporta es una función range() que devuelve un\n",
    "flujo de números en el rango especificado. Una de las grandes ventajas es que la «lista»\n",
    "generada no se construye explícitamente, sino que cada valor se genera bajo demanda. Esta\n",
    "técnica mejora el consumo de recursos, especialmente en términos de memoria."
   ]
  },
  {
   "cell_type": "code",
   "execution_count": 17,
   "metadata": {},
   "outputs": [
    {
     "name": "stdout",
     "output_type": "stream",
     "text": [
      "0\n",
      "1\n",
      "2\n",
      "3\n",
      "4\n",
      "5\n",
      "6\n",
      "7\n",
      "8\n",
      "9\n"
     ]
    }
   ],
   "source": [
    "for valor in range(0, 10):\n",
    "    print(valor)"
   ]
  },
  {
   "cell_type": "markdown",
   "metadata": {},
   "source": [
    "La técnica para la generación de secuencias de números es muy similar a la utilizada en los\n",
    "«slices» de cadenas de texto. En este caso disponemos de la función range(start, stop,\n",
    "step):"
   ]
  },
  {
   "cell_type": "markdown",
   "metadata": {},
   "source": [
    "- start: Es opcional y tiene valor por defecto 0.\n",
    "- stop: es obligatorio (siempre se llega a 1 menos que este valor).\n",
    "- step: es opcional y tiene valor por defecto 1."
   ]
  },
  {
   "cell_type": "code",
   "execution_count": 25,
   "metadata": {},
   "outputs": [
    {
     "name": "stdout",
     "output_type": "stream",
     "text": [
      "1\n",
      "5\n",
      "9\n",
      "13\n",
      "17\n"
     ]
    }
   ],
   "source": [
    "for valor in range(1,20,4):\n",
    "    print(valor)"
   ]
  },
  {
   "cell_type": "code",
   "execution_count": 26,
   "metadata": {},
   "outputs": [
    {
     "name": "stdout",
     "output_type": "stream",
     "text": [
      "2\n",
      "1\n",
      "0\n"
     ]
    }
   ],
   "source": [
    "for valor in range(2,-1,-1):\n",
    "    print(valor)"
   ]
  },
  {
   "cell_type": "code",
   "execution_count": 28,
   "metadata": {},
   "outputs": [
    {
     "name": "stdout",
     "output_type": "stream",
     "text": [
      "Se repite 10 veces\n",
      "Se repite 10 veces\n",
      "Se repite 10 veces\n",
      "Se repite 10 veces\n",
      "Se repite 10 veces\n",
      "Se repite 10 veces\n",
      "Se repite 10 veces\n",
      "Se repite 10 veces\n",
      "Se repite 10 veces\n",
      "Se repite 10 veces\n"
     ]
    }
   ],
   "source": [
    "for _ in range(10):\n",
    "    print('Se repite 10 veces')"
   ]
  }
 ],
 "metadata": {
  "interpreter": {
   "hash": "3ad1fefe0da0f9ce87d89ff1cb631ef70ea59c06108662ad4125844daff719a9"
  },
  "kernelspec": {
   "display_name": "Python 3.10.2 64-bit (windows store)",
   "language": "python",
   "name": "python3"
  },
  "language_info": {
   "codemirror_mode": {
    "name": "ipython",
    "version": 3
   },
   "file_extension": ".py",
   "mimetype": "text/x-python",
   "name": "python",
   "nbconvert_exporter": "python",
   "pygments_lexer": "ipython3",
   "version": "3.10.2"
  },
  "orig_nbformat": 4
 },
 "nbformat": 4,
 "nbformat_minor": 2
}
