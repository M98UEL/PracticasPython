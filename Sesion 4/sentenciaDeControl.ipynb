{
 "cells": [
  {
   "cell_type": "markdown",
   "metadata": {},
   "source": [
    "# Sentencias de control"
   ]
  },
  {
   "cell_type": "markdown",
   "metadata": {},
   "source": [
    "## Definición de bloque"
   ]
  },
  {
   "cell_type": "markdown",
   "metadata": {},
   "source": [
    "A diferencia de otros lenguajes que utilizan llaves para definir los bloques de código,\n",
    "cuando Guido Van Rossum creó el lenguaje quiso evitar estos caracteres por considerarlos\n",
    "innecesarios. Es por ello que en Python los bloques de código se definen a través de\n",
    "espacios en blanco, preferiblemente 4."
   ]
  },
  {
   "cell_type": "markdown",
   "metadata": {},
   "source": [
    "<img src=\"../img/espacios.PNG\">"
   ]
  },
  {
   "cell_type": "markdown",
   "metadata": {},
   "source": [
    "### Comentarios"
   ]
  },
  {
   "cell_type": "markdown",
   "metadata": {},
   "source": [
    "Los comentarios son anotaciones que podemos incluir en nuestro programa y que nos\n",
    "permiten aclarar ciertos aspectos del código. Estas indicaciones son ignoradas por el\n",
    "intérprete de Python."
   ]
  },
  {
   "cell_type": "code",
   "execution_count": 2,
   "metadata": {},
   "outputs": [
    {
     "name": "stdout",
     "output_type": "stream",
     "text": [
      "5037000000000\n"
     ]
    }
   ],
   "source": [
    "# Universe age expressed in days\n",
    "universe_age = 13800 * (10 ** 6) * 365\n",
    "print(universe_age)"
   ]
  },
  {
   "cell_type": "code",
   "execution_count": 2,
   "metadata": {},
   "outputs": [],
   "source": [
    "stock = 0 # Release additional articles"
   ]
  },
  {
   "cell_type": "markdown",
   "metadata": {},
   "source": [
    "### Ancho del codigo"
   ]
  },
  {
   "cell_type": "markdown",
   "metadata": {},
   "source": [
    "Los programas suelen ser más legibles cuando las líneas no son excesivamente largas. La\n",
    "longitud máxima de línea recomendada por la guía de estilo de Python es de 80 caracteres.\n"
   ]
  },
  {
   "cell_type": "markdown",
   "metadata": {},
   "source": [
    "Sin embargo, esto genera una cierta polémica hoy en día, ya que los tamaños de pantalla\n",
    "han aumentado y las resoluciones son mucho mayores que hace años. Así las líneas de más\n",
    "de 80 caracteres se siguen visualizando correctamente. Hay personas que son más estrictas\n",
    "en este límite y otras más flexibles."
   ]
  },
  {
   "cell_type": "code",
   "execution_count": 6,
   "metadata": {},
   "outputs": [
    {
     "name": "stdout",
     "output_type": "stream",
     "text": [
      "24\n"
     ]
    }
   ],
   "source": [
    "factorial = 4 * 3 * 2 * 1\n",
    "\n",
    "print(factorial)"
   ]
  },
  {
   "cell_type": "code",
   "execution_count": 7,
   "metadata": {},
   "outputs": [
    {
     "name": "stdout",
     "output_type": "stream",
     "text": [
      "24\n"
     ]
    }
   ],
   "source": [
    "factorial = 4 * \\\n",
    "            3 * \\\n",
    "            2 * \\\n",
    "            1   \n",
    "print(factorial)     "
   ]
  },
  {
   "cell_type": "code",
   "execution_count": 7,
   "metadata": {},
   "outputs": [
    {
     "name": "stdout",
     "output_type": "stream",
     "text": [
      "24\n"
     ]
    }
   ],
   "source": [
    "factorial = (4 * \n",
    "             3 * \n",
    "             2 * \n",
    "             1)\n",
    "\n",
    "print(factorial)\n"
   ]
  },
  {
   "cell_type": "markdown",
   "metadata": {},
   "source": [
    "### Sentencia IF"
   ]
  },
  {
   "cell_type": "code",
   "execution_count": 11,
   "metadata": {},
   "outputs": [
    {
     "name": "stdout",
     "output_type": "stream",
     "text": [
      "Warning: Temperatura elevada!!!\n",
      "Hola\n"
     ]
    }
   ],
   "source": [
    "temp = 38\n",
    "if temp > 35:\n",
    "    print('Warning: Temperatura elevada!!!')\n",
    "    \n"
   ]
  },
  {
   "cell_type": "code",
   "execution_count": 16,
   "metadata": {},
   "outputs": [
    {
     "name": "stdout",
     "output_type": "stream",
     "text": [
      "Warning: Temperatura elevada!!!\n"
     ]
    }
   ],
   "source": [
    "temp = 39\n",
    "if temp > 35:\n",
    "    print('Warning: Temperatura elevada!!!')\n",
    "else:\n",
    "    print('Alert: Subiendo la temperatura pero aun normal!!')\n",
    "    "
   ]
  },
  {
   "cell_type": "code",
   "execution_count": 19,
   "metadata": {},
   "outputs": [
    {
     "name": "stdout",
     "output_type": "stream",
     "text": [
      "Warning: Evite salir al exterior, puede tener consecuencias graves\n"
     ]
    }
   ],
   "source": [
    "temp = 46\n",
    "if temp > 35:\n",
    "    if temp > 45:\n",
    "        print('Warning: Evite salir al exterior, puede tener consecuencias graves')\n",
    "    else:\n",
    "        print('Warning: Temperatura elevada, trate de estar el menor tiempo al exterior')\n",
    "else:\n",
    "    if temp < 12:\n",
    "        print ('Warning: Baja temperatura, Cubrase con abrigos !!')\n",
    "    else:\n",
    "        print('Buen tiempo, disfrute el día')\n"
   ]
  },
  {
   "cell_type": "code",
   "execution_count": 20,
   "metadata": {},
   "outputs": [
    {
     "name": "stdout",
     "output_type": "stream",
     "text": [
      "Warning: Evite salir al exterior, puede tener consecuencias graves\n"
     ]
    }
   ],
   "source": [
    "temp = 46\n",
    "if temp > 35:\n",
    "    if temp > 45:\n",
    "        print('Warning: Evite salir al exterior, puede tener consecuencias graves')\n",
    "    else:\n",
    "        print('Warning: Temperatura elevada, trate de estar el menor tiempo al exterior')\n",
    "elif temp < 12:\n",
    "    print ('Warning: Baja temperatura, Cubrase con abrigos !!')\n",
    "else:\n",
    "    print('Buen tiempo, disfrute el día')"
   ]
  },
  {
   "cell_type": "markdown",
   "metadata": {},
   "source": [
    "### Operadores de comparación"
   ]
  },
  {
   "cell_type": "markdown",
   "metadata": {},
   "source": [
    "<img src=\"../img/operadoresComparacion.PNG\">"
   ]
  },
  {
   "cell_type": "code",
   "execution_count": 21,
   "metadata": {},
   "outputs": [],
   "source": [
    "valor = 10"
   ]
  },
  {
   "cell_type": "code",
   "execution_count": 22,
   "metadata": {},
   "outputs": [
    {
     "data": {
      "text/plain": [
       "True"
      ]
     },
     "execution_count": 22,
     "metadata": {},
     "output_type": "execute_result"
    }
   ],
   "source": [
    "valor == 10"
   ]
  },
  {
   "cell_type": "code",
   "execution_count": 23,
   "metadata": {},
   "outputs": [
    {
     "data": {
      "text/plain": [
       "False"
      ]
     },
     "execution_count": 23,
     "metadata": {},
     "output_type": "execute_result"
    }
   ],
   "source": [
    "valor != 10"
   ]
  },
  {
   "cell_type": "code",
   "execution_count": 22,
   "metadata": {},
   "outputs": [
    {
     "data": {
      "text/plain": [
       "True"
      ]
     },
     "execution_count": 22,
     "metadata": {},
     "output_type": "execute_result"
    }
   ],
   "source": [
    "valor < 12"
   ]
  },
  {
   "cell_type": "code",
   "execution_count": 24,
   "metadata": {},
   "outputs": [
    {
     "data": {
      "text/plain": [
       "True"
      ]
     },
     "execution_count": 24,
     "metadata": {},
     "output_type": "execute_result"
    }
   ],
   "source": [
    "valor <= 11"
   ]
  },
  {
   "cell_type": "code",
   "execution_count": 25,
   "metadata": {},
   "outputs": [
    {
     "data": {
      "text/plain": [
       "True"
      ]
     },
     "execution_count": 25,
     "metadata": {},
     "output_type": "execute_result"
    }
   ],
   "source": [
    "valor > 8"
   ]
  },
  {
   "cell_type": "code",
   "execution_count": 24,
   "metadata": {},
   "outputs": [
    {
     "data": {
      "text/plain": [
       "True"
      ]
     },
     "execution_count": 24,
     "metadata": {},
     "output_type": "execute_result"
    }
   ],
   "source": [
    "valor >= 10"
   ]
  },
  {
   "cell_type": "markdown",
   "metadata": {},
   "source": [
    "### Operadores Lógicos"
   ]
  },
  {
   "cell_type": "markdown",
   "metadata": {},
   "source": [
    "- or\n",
    "- and\n",
    "- not"
   ]
  },
  {
   "cell_type": "code",
   "execution_count": 25,
   "metadata": {},
   "outputs": [],
   "source": [
    "x = 15"
   ]
  },
  {
   "cell_type": "code",
   "execution_count": 26,
   "metadata": {},
   "outputs": [
    {
     "data": {
      "text/plain": [
       "True"
      ]
     },
     "execution_count": 26,
     "metadata": {},
     "output_type": "execute_result"
    }
   ],
   "source": [
    "x < 20 and x > 10"
   ]
  },
  {
   "cell_type": "code",
   "execution_count": 29,
   "metadata": {},
   "outputs": [
    {
     "data": {
      "text/plain": [
       "True"
      ]
     },
     "execution_count": 29,
     "metadata": {},
     "output_type": "execute_result"
    }
   ],
   "source": [
    "x <= 20 and x >= 10"
   ]
  },
  {
   "cell_type": "code",
   "execution_count": 35,
   "metadata": {},
   "outputs": [
    {
     "data": {
      "text/plain": [
       "True"
      ]
     },
     "execution_count": 35,
     "metadata": {},
     "output_type": "execute_result"
    }
   ],
   "source": [
    "x <= 20 or x >= 10"
   ]
  },
  {
   "cell_type": "code",
   "execution_count": 30,
   "metadata": {},
   "outputs": [
    {
     "data": {
      "text/plain": [
       "True"
      ]
     },
     "execution_count": 30,
     "metadata": {},
     "output_type": "execute_result"
    }
   ],
   "source": [
    "10 <= x <= 20"
   ]
  },
  {
   "cell_type": "code",
   "execution_count": 32,
   "metadata": {},
   "outputs": [
    {
     "data": {
      "text/plain": [
       "False"
      ]
     },
     "execution_count": 32,
     "metadata": {},
     "output_type": "execute_result"
    }
   ],
   "source": [
    "not(x == 15)"
   ]
  },
  {
   "cell_type": "markdown",
   "metadata": {},
   "source": [
    "## Ejercicio"
   ]
  },
  {
   "cell_type": "markdown",
   "metadata": {},
   "source": [
    "Dada una variable year con un valor entero, compruebe si dicho año es bisiesto o no lo es.\n",
    "Un año es bisiesto en el calendario Gregoriano, si es divisible entre 4 y no divisible entre\n",
    "100, o bien si es divisible entre 400. Puedes hacer la comprobación en esta lista de años\n",
    "bisiestos."
   ]
  },
  {
   "cell_type": "markdown",
   "metadata": {},
   "source": [
    "Ejemplo: \n",
    "\n",
    "- Entrada: 2008\n",
    "- Salida: Es un año bisiesto"
   ]
  },
  {
   "cell_type": "markdown",
   "metadata": {},
   "source": [
    "## Ejercicio"
   ]
  },
  {
   "cell_type": "markdown",
   "metadata": {},
   "source": [
    "<img src=\"../img/ejercicio-if.jpg\">"
   ]
  },
  {
   "cell_type": "markdown",
   "metadata": {},
   "source": [
    "Ejemplo\n",
    "- Entrada: can_fly = True, is_human = True y has_mask = True\n",
    "- Salida: Ironman"
   ]
  },
  {
   "cell_type": "markdown",
   "metadata": {},
   "source": [
    "# Sentencia match-case"
   ]
  },
  {
   "cell_type": "markdown",
   "metadata": {},
   "source": [
    "Una de las novedades más esperadas (y quizás controvertidas) de Python 3.10 fue el\n",
    "llamado Structural Pattern Matching que introdujo en el lenguaje una nueva sentencia\n",
    "condicional. Ésta se podría asemejar a la sentencia «switch» que ya existe en otros lenguajes\n",
    "de programación."
   ]
  },
  {
   "cell_type": "code",
   "execution_count": 38,
   "metadata": {},
   "outputs": [],
   "source": [
    "puntos = ( 2, 4, 6)"
   ]
  },
  {
   "cell_type": "code",
   "execution_count": 39,
   "metadata": {},
   "outputs": [
    {
     "name": "stdout",
     "output_type": "stream",
     "text": [
      "(2,4,6) es tridimencional\n"
     ]
    }
   ],
   "source": [
    "match puntos:\n",
    "    case (x, y):\n",
    "        print(f'({x},{y}) es de dos dimensiones')\n",
    "    case (x, y, z):\n",
    "        print(f'({x},{y},{z}) es tridimencional')\n",
    "    case _:\n",
    "        print('valores desconocidos')"
   ]
  },
  {
   "cell_type": "code",
   "execution_count": 42,
   "metadata": {},
   "outputs": [
    {
     "name": "stdout",
     "output_type": "stream",
     "text": [
      "valores desconocidos\n"
     ]
    }
   ],
   "source": [
    "puntos = (2,'4')\n",
    "match puntos:\n",
    "    case (int(), int()):\n",
    "        print(f'{puntos} es de dos dimensiones')\n",
    "    case (int(), int(), int()):\n",
    "        print(f'{puntos} es tridimencional')\n",
    "    case _:\n",
    "        print('valores desconocidos')"
   ]
  },
  {
   "cell_type": "code",
   "execution_count": 44,
   "metadata": {},
   "outputs": [
    {
     "name": "stdout",
     "output_type": "stream",
     "text": [
      "(2, 4) es de dos dimensiones\n"
     ]
    }
   ],
   "source": [
    "puntos = (2,4)\n",
    "match puntos:\n",
    "    case (int(x), int(y)):\n",
    "        print(f'{puntos} es de dos dimensiones')\n",
    "    case (int(x), int(y), int(z)):\n",
    "        print(f'{puntos} es tridimencional')\n",
    "    case _:\n",
    "        print('valores desconocidos')"
   ]
  },
  {
   "cell_type": "markdown",
   "metadata": {},
   "source": [
    "### Operador Morsa"
   ]
  },
  {
   "cell_type": "code",
   "execution_count": 48,
   "metadata": {},
   "outputs": [],
   "source": [
    "radio = 12"
   ]
  },
  {
   "cell_type": "code",
   "execution_count": 49,
   "metadata": {},
   "outputs": [],
   "source": [
    "perimetro = 2 * 3.1415 * radio"
   ]
  },
  {
   "cell_type": "code",
   "execution_count": 50,
   "metadata": {},
   "outputs": [
    {
     "name": "stdout",
     "output_type": "stream",
     "text": [
      "Incrementar el radio hasta llegar al perimetro de 100\n",
      "Perimetro: 75.396\n"
     ]
    }
   ],
   "source": [
    "if(perimetro < 100):\n",
    "    print('Incrementar el radio hasta llegar al perimetro de 100')\n",
    "    print('Perimetro:', perimetro)"
   ]
  },
  {
   "cell_type": "markdown",
   "metadata": {},
   "source": [
    "#### Operador Morsa"
   ]
  },
  {
   "cell_type": "code",
   "execution_count": 53,
   "metadata": {},
   "outputs": [],
   "source": [
    "radio = 16\n",
    "if(perimetro := 2 * 3.1415 * radio) < 100:\n",
    "    print('Incrementar el radio hasta llegar al perimetro de 100')\n",
    "    print('Perimetro:', perimetro)"
   ]
  },
  {
   "cell_type": "markdown",
   "metadata": {},
   "source": [
    "### Ejercicio"
   ]
  },
  {
   "cell_type": "markdown",
   "metadata": {},
   "source": [
    "Escriba un programa en Python que acepte edad, peso, pulso y plaquetas, y determine\n",
    "si una persona cumple con estos requisitos para donar sangre."
   ]
  },
  {
   "cell_type": "markdown",
   "metadata": {},
   "source": [
    "Entrada: edad=34; peso=81; heartbeat=70; plaquetas=150000\n",
    "\n",
    "Salida: Apto para donar sangre"
   ]
  }
 ],
 "metadata": {
  "interpreter": {
   "hash": "3ad1fefe0da0f9ce87d89ff1cb631ef70ea59c06108662ad4125844daff719a9"
  },
  "kernelspec": {
   "display_name": "Python 3.10.2 64-bit (windows store)",
   "language": "python",
   "name": "python3"
  },
  "language_info": {
   "codemirror_mode": {
    "name": "ipython",
    "version": 3
   },
   "file_extension": ".py",
   "mimetype": "text/x-python",
   "name": "python",
   "nbconvert_exporter": "python",
   "pygments_lexer": "ipython3",
   "version": "3.10.2"
  },
  "orig_nbformat": 4
 },
 "nbformat": 4,
 "nbformat_minor": 2
}
